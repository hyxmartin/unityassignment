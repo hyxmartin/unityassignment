{
 "cells": [
  {
   "cell_type": "markdown",
   "metadata": {},
   "source": [
    "# Unity Assignement #\n",
    "_**Data Analysis**_\n",
    "\n",
    "---\n",
    "## Contents\n",
    "\n",
    "1. [Prepare](#Prepare)\n",
    "3. [Analysis](#Analysis)\n",
    "  1. [How many sessions are in the dataset?](#How_many_sessions_are_in_the_dataset?)\n",
    "  2. [How many sessions are completed per country?](#How_many_sessions_are_completed_per_country?)\n",
    "  3. [How many sessions are completed per player?](#How_many_sessions_are_completed_per_player?)\n",
    "  4. [What is the country with more sessions started during 2018?](#What_is_the_country_with_more_sessions_started_during_2018?)\n",
    "  5. [Plot the player sessions completed per country](#Plot_the_player_sessions_completed_per_country)"
   ]
  },
  {
   "cell_type": "markdown",
   "metadata": {},
   "source": [
    "# Prepare"
   ]
  },
  {
   "cell_type": "code",
   "execution_count": 1,
   "metadata": {},
   "outputs": [],
   "source": [
    "# Import findspark \n",
    "import findspark\n",
    "\n",
    "# Or use this alternative\n",
    "findspark.init()"
   ]
  },
  {
   "cell_type": "code",
   "execution_count": 2,
   "metadata": {},
   "outputs": [],
   "source": [
    "# Import SparkSession\n",
    "from pyspark.sql import SparkSession\n",
    "\n",
    "# Build the SparkSession\n",
    "spark = SparkSession.builder \\\n",
    "   .master(\"local\") \\\n",
    "   .appName(\"Unity Data Analysis\") \\\n",
    "   .config(\"spark.executor.memory\", \"2gb\") \\\n",
    "   .getOrCreate()"
   ]
  },
  {
   "cell_type": "code",
   "execution_count": 3,
   "metadata": {},
   "outputs": [],
   "source": [
    "sessiondf = spark.read.json(\"C:/Users/MHu/Desktop/MyUnityAssignment/Data/assignment_data.jsonl\")"
   ]
  },
  {
   "cell_type": "code",
   "execution_count": 4,
   "metadata": {},
   "outputs": [
    {
     "name": "stdout",
     "output_type": "stream",
     "text": [
      "root\n",
      " |-- country: string (nullable = true)\n",
      " |-- event: string (nullable = true)\n",
      " |-- player_id: string (nullable = true)\n",
      " |-- session_id: string (nullable = true)\n",
      " |-- ts: string (nullable = true)\n",
      "\n"
     ]
    }
   ],
   "source": [
    "# Print the data types of all `df` columns\n",
    "# sessiondf.dtypes\n",
    "\n",
    "# Print the schema of `df`\n",
    "sessiondf.printSchema()"
   ]
  },
  {
   "cell_type": "code",
   "execution_count": 5,
   "metadata": {},
   "outputs": [],
   "source": [
    "from pyspark.sql.functions import to_timestamp\n",
    "sessiondf = sessiondf.withColumn(\"ts\", to_timestamp(\"ts\"))"
   ]
  },
  {
   "cell_type": "code",
   "execution_count": 6,
   "metadata": {},
   "outputs": [
    {
     "name": "stdout",
     "output_type": "stream",
     "text": [
      "root\n",
      " |-- country: string (nullable = true)\n",
      " |-- event: string (nullable = true)\n",
      " |-- player_id: string (nullable = true)\n",
      " |-- session_id: string (nullable = true)\n",
      " |-- ts: timestamp (nullable = true)\n",
      "\n"
     ]
    }
   ],
   "source": [
    "sessiondf.printSchema()"
   ]
  },
  {
   "cell_type": "code",
   "execution_count": 7,
   "metadata": {},
   "outputs": [],
   "source": [
    "sessiondf.createOrReplaceTempView(\"session\")"
   ]
  },
  {
   "cell_type": "markdown",
   "metadata": {},
   "source": [
    "# Analysis"
   ]
  },
  {
   "cell_type": "markdown",
   "metadata": {},
   "source": [
    "### How_many_sessions_are_in_the_dataset?"
   ]
  },
  {
   "cell_type": "code",
   "execution_count": 8,
   "metadata": {},
   "outputs": [
    {
     "data": {
      "text/plain": [
       "[Row(SessionsCount=500587)]"
      ]
     },
     "execution_count": 8,
     "metadata": {},
     "output_type": "execute_result"
    }
   ],
   "source": [
    "q1 = spark.sql(\"SELECT COUNT(DISTINCT SESSION_ID) SessionsCount \\\n",
    "from session\")\n",
    "q1.take(1)"
   ]
  },
  {
   "cell_type": "markdown",
   "metadata": {},
   "source": [
    "### How_many_sessions_are_completed_per_country?"
   ]
  },
  {
   "cell_type": "code",
   "execution_count": 9,
   "metadata": {},
   "outputs": [
    {
     "name": "stdout",
     "output_type": "stream",
     "text": [
      "+-------+-------------+\n",
      "|country|SessionsCount|\n",
      "+-------+-------------+\n",
      "|     IT|         2839|\n",
      "|     SH|         2672|\n",
      "|     AZ|         2670|\n",
      "|     AT|         2655|\n",
      "|     WF|         2616|\n",
      "|     VA|         2602|\n",
      "|     HU|         2584|\n",
      "|     IL|         2563|\n",
      "|     RO|         2550|\n",
      "|     KR|         2535|\n",
      "|     SR|         2533|\n",
      "|     TO|         2521|\n",
      "|     MD|         2516|\n",
      "|     LS|         2475|\n",
      "|     NO|         2461|\n",
      "|     DE|         2440|\n",
      "|     TF|         2433|\n",
      "|     EG|         2431|\n",
      "|     CD|         2423|\n",
      "|     GS|         2414|\n",
      "+-------+-------------+\n",
      "only showing top 20 rows\n",
      "\n"
     ]
    }
   ],
   "source": [
    "# Only display top 20\n",
    "q2 = spark.sql(\"Select country, count(session_ID) SessionsCount \\\n",
    "from session \\\n",
    "where event = 'start' and session_id in ( \\\n",
    "    select session_id \\\n",
    "    from session \\\n",
    "    where event = 'end') \\\n",
    "GROUP BY COUNTRY \\\n",
    "ORDER BY count(session_ID) desc\")\n",
    "q2.show()"
   ]
  },
  {
   "cell_type": "markdown",
   "metadata": {},
   "source": [
    "### How_many_sessions_are_completed_per_player?"
   ]
  },
  {
   "cell_type": "code",
   "execution_count": 10,
   "metadata": {},
   "outputs": [
    {
     "name": "stdout",
     "output_type": "stream",
     "text": [
      "+--------------------+-------------+\n",
      "|           player_id|SessionsCount|\n",
      "+--------------------+-------------+\n",
      "|bc21a941806e41ad9...|           50|\n",
      "|ada4c853861d4957b...|           50|\n",
      "|9d3241418f3841659...|           50|\n",
      "|e53d1cb155a548b3b...|           50|\n",
      "|26255c2697e64a919...|           50|\n",
      "|8500e7ecc46c414e9...|           50|\n",
      "|24bd8188b2d241e88...|           50|\n",
      "|dcb42f3696004708a...|           50|\n",
      "|a7c5a28df8e84b5a9...|           50|\n",
      "|d758509e77e049769...|           50|\n",
      "|bbeaff310c1b4c878...|           50|\n",
      "|5534f125269940e29...|           50|\n",
      "|8982e790fad04f18a...|           50|\n",
      "|908af531441641dc9...|           50|\n",
      "|b0c7f160b7834a25a...|           50|\n",
      "|a3db69f0aa004df5b...|           50|\n",
      "|fd9a7f6f335745fdb...|           50|\n",
      "|37370d0139544d1ca...|           50|\n",
      "|821ea0f158a04c8ab...|           50|\n",
      "|e8f36a8efded42bfb...|           50|\n",
      "+--------------------+-------------+\n",
      "only showing top 20 rows\n",
      "\n"
     ]
    }
   ],
   "source": [
    "# Only display top 20\n",
    "q3 = spark.sql(\"Select player_id, count(session_ID) SessionsCount \\\n",
    "from session \\\n",
    "where event = 'end' \\\n",
    "GROUP BY player_id \\\n",
    "ORDER BY count(session_ID) desc\")\n",
    "q3.show()"
   ]
  },
  {
   "cell_type": "markdown",
   "metadata": {},
   "source": [
    "### What_is_the_country_with_more_sessions_started_during_2018?"
   ]
  },
  {
   "cell_type": "code",
   "execution_count": 11,
   "metadata": {},
   "outputs": [
    {
     "name": "stdout",
     "output_type": "stream",
     "text": [
      "+-------+\n",
      "|country|\n",
      "+-------+\n",
      "|     IT|\n",
      "+-------+\n",
      "\n"
     ]
    }
   ],
   "source": [
    "# this dataset doesn't include 2018 data, so I used 2016 in criteria\n",
    "q4 = spark.sql(\"select country \\\n",
    "from session \\\n",
    "where year(ts) = 2016 and event = 'start' \\\n",
    "group by country \\\n",
    "order by count(session_ID) desc \\\n",
    "Limit 1\")\n",
    "q4.show()"
   ]
  },
  {
   "cell_type": "markdown",
   "metadata": {},
   "source": [
    "### Plot_the_player_sessions_completed_per_country"
   ]
  },
  {
   "cell_type": "code",
   "execution_count": 12,
   "metadata": {},
   "outputs": [],
   "source": [
    "q5 = spark.sql(\"Select country, count(session_ID) SessionsCount \\\n",
    "from session \\\n",
    "where event = 'start' and session_id in ( \\\n",
    "    select session_id \\\n",
    "    from session \\\n",
    "    where event = 'end') \\\n",
    "GROUP BY COUNTRY \\\n",
    "ORDER BY count(session_ID) desc\")\n",
    "pdq5 = q5.toPandas()"
   ]
  },
  {
   "cell_type": "code",
   "execution_count": 13,
   "metadata": {},
   "outputs": [],
   "source": [
    "# Too many countries in a chart, so take it down to top 20 by sessions count\n",
    "pdq5_head = pdq5.head(20)"
   ]
  },
  {
   "cell_type": "code",
   "execution_count": 15,
   "metadata": {},
   "outputs": [
    {
     "data": {
      "image/png": "[encoded data removed]",
      "text/plain": [
       "<Figure size 648x432 with 1 Axes>"
      ]
     },
     "metadata": {
      "needs_background": "light"
     },
     "output_type": "display_data"
    }
   ],
   "source": [
    "import matplotlib.pyplot as plt\n",
    "fig= plt.figure(figsize=(9,6))\n",
    "\n",
    "plt.bar(pdq5_head['country'], pdq5_head['SessionsCount'], align='center', alpha=1)\n",
    "\n",
    "plt.ylabel('Sessions')\n",
    "plt.title('Player Sessions completed per Country')\n",
    "\n",
    "plt.show()"
   ]
  }
 ],
 "metadata": {
  "kernelspec": {
   "display_name": "Python 3",
   "language": "python",
   "name": "python3"
  },
  "language_info": {
   "codemirror_mode": {
    "name": "ipython",
    "version": 3
   },
   "file_extension": ".py",
   "mimetype": "text/x-python",
   "name": "python",
   "nbconvert_exporter": "python",
   "pygments_lexer": "ipython3",
   "version": "3.7.3"
  }
 },
 "nbformat": 4,
 "nbformat_minor": 2
}
